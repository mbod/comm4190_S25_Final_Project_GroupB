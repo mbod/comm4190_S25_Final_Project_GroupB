{
 "cells": [
  {
   "cell_type": "markdown",
   "id": "fdad6242-a2bb-4783-813b-f782d79eca67",
   "metadata": {},
   "source": [
    "# Evaluation Criteria: Comparing General ChatGPT Model using Mollick Prompt vs. Custom GPT\n",
    "\n",
    "In this project, we also test whether general prompting techniques like the Mollick method or a custom trained GPT is better suited to advise the user in romantic situations.\n",
    "\n",
    "The **Mollick Prompt** method includes:\n",
    "- Setting the AI’s **role**  \n",
    "- Defining a **clear task**  \n",
    "- Outlining **steps** the AI should follow  \n",
    "\n",
    "The **Custom GPT** is given insrtuctions similar to the Mollick prompt but structured in ChatGPT's custom GPT configuration style.\n",
    "\n",
    "To compare them, each interaction will be evaluated using the following standards:\n",
    "\n",
    "## Evaluation Standards\n",
    "*Rated 1-5 with 5 being the highest*\n",
    "\n",
    "| Criteria               | Description | Mollick Prompt | Custom GPT |\n",
    "|------------------------|-------------|----------------|------------|\n",
    "| **Emotional Sensitivity** | Does the model respond with warmth, patience, and empathy? Does it acknowledge emotional context appropriately for age? | 1-5 | 1-5 |\n",
    "| **Depth of Reflection** | Does the model guide the user toward meaningful self-reflection using open-ended questions and layered conversation? | 1-5 | 1-5 |\n",
    "| **Personalization** | Are responses tailored to the user’s context and emotional state rather than generic advice? | 1-5 | 1-5 |\n",
    "| **Educational Quality** | Does the model introduce valid psychological frameworks or concepts (boundaries, readiness, communication)? | 1-5 | 1-5 |\n",
    "| **Tone & Relatability** | Does the tone match the user’s age and feel conversational and approachable? | 1-5 | 1-5 |\n",
    "| **Clarity of Guidance** | Does the conversation leave the user with more clarity, direction, or actionable takeaways? | 1-5 | 1-5 |\n",
    "| **Respect for Autonomy** | Does the model support the user in coming to their own conclusions instead of giving direct advice? | 1-5 | 1-5 |\n",
    "\n",
    "Each scenario will be judged on these metrics to determine which model delivers more effective, relevant, and user centered support.\n"
   ]
  }
 ],
 "metadata": {
  "citation-manager": {
   "items": {}
  },
  "kernelspec": {
   "display_name": "Python 3-12 (COMM4190)",
   "language": "python",
   "name": "python3-12_comm4190"
  },
  "language_info": {
   "codemirror_mode": {
    "name": "ipython",
    "version": 3
   },
   "file_extension": ".py",
   "mimetype": "text/x-python",
   "name": "python",
   "nbconvert_exporter": "python",
   "pygments_lexer": "ipython3",
   "version": "3.12.8"
  }
 },
 "nbformat": 4,
 "nbformat_minor": 5
}
