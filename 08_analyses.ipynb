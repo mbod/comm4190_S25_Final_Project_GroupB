{
 "cells": [
  {
   "attachments": {},
   "cell_type": "markdown",
   "id": "cc4bfde6-4d98-4678-aab3-c5cf266feb58",
   "metadata": {},
   "source": [
    "# Analyses for User Scenarios 1, 2, 3, and 4\n",
    "\n",
    "## [User Scenario 1](/04_userscenario1.ipynb) - A Teenager Unsure Whether They’re Ready to Date\n",
    "\n",
    "For User Scenario 1, while both the Mollick-prompted and custom GPTs created safe and supportive spaces, they conveyed distinct impressions. The Mollick version was more like a calm, structured therapist, breaking things down into manageable chunks, asking clear questions, and providing examples when they needed encouraging. The custom GPT was a bigger-sister type/guiding friend—offering more emotional richness, especially when the user was feeling overwhelmed, as it leaned into a more supportive tone—both provided autonomy, acknowledged ageappropriateness, but I feel the custom version was somewhat more human and reassuring. That said, neither version really delved into educational content, nor framed their responses in any sort of specificity, and both could've personalized a little each.\n",
    "\n",
    "## [User Scenario 2](/05_userscenario2.ipynb) - A couple having trouble communicating with one another\n",
    "\n",
    "In Scenario 2, both the Mollick-prompted GPT and the tailored GPT support the user in unpacking communication challenges with a partner in slightly different ways. The Mollick is calm and methodical, and uses validation and reflection to generate insights for the user to recognize that the thermostat issue is really not about the temperature - it is about being listened to. It identifies the problem clearly, and gives thoughtful prompts for the user to work through a topic, without jumping to solutions. This is effective in working through clarity and establishing the user's emotional tempo. The tailored GPT, on the other hand, reads as more playful and personal, using informal terms like \"team chilly vs. team toasty\" to bring lightness to the tone, while guiding the user into more profound invitations to reflect, drawing links between surface conflict to more significant themes in relationships, like concerns over power dynamics or feeling ignored etc. In terms of overall impression, I also felt the Mollick was a little more emotionally stable and guided, while the tailored GPT was more relatable and personal. Both tools were beneficial in their own right, based on whether the user would like more colder or warmer approaches.\n",
    "\n",
    "## [User Scenario 3](/06_userscenario3.ipynb) - A person receiving outside pressure to end a long term relationship, is unsure of the best course of action\n",
    "\n",
    "In Scenario 3 both models were cautious, but the custom GPT was one step further in terms of emotional attunement and reflection prompt specificity. The Mollick-format GPT was steady and affirming, and helped stabilise the user to identify a need for a distinction between internal voice (the user) and external voice of pressure. But the custom GPT went deeper, getting more nuanced, with layers of grief, holding hope, emotional ROI, and a future vision. It brought in metaphors and prompted coaching questions, which invited the user to slow down and really reflect on the feelings. Both models facilitated preserving user autonomy, but custom GPT felt so much more personal and empowering in getting to supporting the user hard in naming what they want.\n",
    "\n",
    "## [User Scenario 4](/07_userscenario4.ipynb) - A parent trying to figure out how to introduce a new partner to his/her child(ren)\n",
    "\n",
    "In this case, even though the Mollick ChatGPT output was decent, it felt somewhat shallow. The ChatGPT output helped establish trust and prompted some reflection, but it also missed some of the detail and didn't give a great deal of useful tools/education. The custom GPT that used the LoveSense framework, by contrast, was more useful overall - it had very clear, deliberate steps for introducing the partner in the context of the child's age and range of feelings, it used really great metaphors (like planting a seed), and moved towards using concrete dialogue samples to help envision how this would play out in an actual context. The custom GPT could have created a little more attention on the parent's emotional experience, but all in all the custom GPT struck a better balance between empathy and support. The custom version felt more concrete and ultimately practical.\n",
    "\n",
    "## Final Thoughts: Would I Use LoveSense?\n",
    "\n",
    "Final thoughts? Personally, I think LoveSense is a good option, especially since it is free, easily accessible, and provides a customizable roadmap for lots of different relationship contexts. This is a useful first step when you need to sort through something, and I liked that it is focused on asking the right questions rather than trying to give you a set of prescribed, proverbial \"answers.\" However, it is not perfect. There is no voice, so it misses out on tone and a myriad of nonverbal indicators which can be very important to emotional conversations. To be honest, if I was truly facing an issue, I would still most likely want to meet with a real therapist, face to face, who could pick up on my body language, respond to me in real time, and offer their human presence to the matter as well. LoveSense is suited for reflection and providing gentle guidance, but is not a substitute for the same level of connection or depth of experience that can arise in meeting with someone live.\n",
    "\n"
   ]
  }
 ],
 "metadata": {
  "kernelspec": {
   "display_name": "Python 3-12 (COMM4190)",
   "language": "python",
   "name": "python3-12_comm4190"
  },
  "language_info": {
   "codemirror_mode": {
    "name": "ipython",
    "version": 3
   },
   "file_extension": ".py",
   "mimetype": "text/x-python",
   "name": "python",
   "nbconvert_exporter": "python",
   "pygments_lexer": "ipython3",
   "version": "3.12.8"
  }
 },
 "nbformat": 4,
 "nbformat_minor": 5
}
